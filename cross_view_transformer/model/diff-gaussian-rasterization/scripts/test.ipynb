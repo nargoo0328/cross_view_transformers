{
 "cells": [
  {
   "cell_type": "code",
   "execution_count": 1,
   "metadata": {},
   "outputs": [],
   "source": [
    "import torch\n",
    "import math\n",
    "from diff_gaussian_rasterization import GaussianRasterizationSettings, GaussianRasterizer\n",
    "import os\n",
    "import matplotlib.pyplot as plt\n",
    "\n",
    "class BEVCamera:\n",
    "    def __init__(self, x_range=(-50, 50), y_range=(-50, 50), image_size=200):\n",
    "        # Orthographic projection parameters\n",
    "        self.x_min, self.x_max = x_range\n",
    "        self.y_min, self.y_max = y_range\n",
    "        self.image_width = image_size\n",
    "        self.image_height = image_size\n",
    "\n",
    "        # Set up FoV to cover the range [-50, 50] for both X and Y\n",
    "        self.FoVx = (self.x_max - self.x_min)  # Width of the scene in world coordinates\n",
    "        self.FoVy = (self.y_max - self.y_min)  # Height of the scene in world coordinates\n",
    "\n",
    "        # Camera position: placed above the scene, looking down along Z-axis\n",
    "        self.camera_center = torch.tensor([0, 0, 200], dtype=torch.float32).to('cuda:0')  # High above Z-axis\n",
    "        \n",
    "        # View matrix: Identity matrix (no rotation, just top-down view)\n",
    "        self.world_view_transform = torch.tensor([\n",
    "            [ 0.,  2.,  0.,         0.],\n",
    "            [ 2.,  0.,  0.,         0.],\n",
    "            [ 0.,  0.,  0.,         0.],\n",
    "            [ 0.,  0.,  0.,         0.],\n",
    "        ], dtype=torch.float32).to('cuda:0')\n",
    "\n",
    "        # Orthographic projection matrix for BEV\n",
    "        self.full_proj_transform = self.orthographic_projection().to('cuda:0')\n",
    "    \n",
    "    def orthographic_projection(self):\n",
    "        \"\"\" Set up an orthographic projection matrix for BEV. \"\"\"\n",
    "        # Create an orthographic projection matrix\n",
    "        proj_matrix = torch.tensor([\n",
    "            [ 0., -2.,  0.,         100.],\n",
    "            [-2,   0.,  0.,         100.],\n",
    "            [ 0.,  0.,  0.,           1.],\n",
    "            [ 0.,  0.,  0.,           1.],\n",
    "        ], dtype=torch.float32)\n",
    "        return proj_matrix\n",
    "\n",
    "# Instantiate the camera\n",
    "bev_camera = BEVCamera()"
   ]
  },
  {
   "cell_type": "code",
   "execution_count": 2,
   "metadata": {},
   "outputs": [],
   "source": [
    "def strip_lowerdiag(L):\n",
    "    uncertainty = torch.zeros((L.shape[0], 6), dtype=torch.float, device=\"cuda\")\n",
    "\n",
    "    uncertainty[:, 0] = L[:, 0, 0]\n",
    "    uncertainty[:, 1] = L[:, 0, 1]\n",
    "    uncertainty[:, 2] = L[:, 0, 2]\n",
    "    uncertainty[:, 3] = L[:, 1, 1]\n",
    "    uncertainty[:, 4] = L[:, 1, 2]\n",
    "    uncertainty[:, 5] = L[:, 2, 2]\n",
    "    return uncertainty\n",
    "\n",
    "def quaternion_to_rotation_matrix_batch(quaternions):\n",
    "    \"\"\"\n",
    "    Converts a batch of quaternions to a batch of 3x3 rotation matrices.\n",
    "    quaternions: Tensor of shape (b, G, 4) representing the quaternion (q_w, q_x, q_y, q_z)\n",
    "    \n",
    "    Output: Tensor of shape (b, G, 3, 3) representing the rotation matrices\n",
    "    \"\"\"\n",
    "    q_w, q_x, q_y, q_z = torch.split(quaternions, 1, dim=-1)\n",
    "    q_w = quaternions[..., 0]\n",
    "    q_x = quaternions[..., 1]\n",
    "    q_y = quaternions[..., 2]\n",
    "    q_z = quaternions[..., 3]\n",
    "\n",
    "    # Rotation matrix elements\n",
    "    R = torch.zeros(quaternions.shape[:-1] + (3, 3), device=quaternions.device)\n",
    "    \n",
    "    R[..., 0, 0] = 1 - 2 * (q_y ** 2 + q_z ** 2)\n",
    "    R[..., 0, 1] = 2 * (q_x * q_y - q_z * q_w)\n",
    "    R[..., 0, 2] = 2 * (q_x * q_z + q_y * q_w)\n",
    "\n",
    "    R[..., 1, 0] = 2 * (q_x * q_y + q_z * q_w)\n",
    "    R[..., 1, 1] = 1 - 2 * (q_x ** 2 + q_z ** 2)\n",
    "    R[..., 1, 2] = 2 * (q_y * q_z - q_x * q_w)\n",
    "\n",
    "    R[..., 2, 0] = 2 * (q_x * q_z - q_y * q_w)\n",
    "    R[..., 2, 1] = 2 * (q_y * q_z + q_x * q_w)\n",
    "    R[..., 2, 2] = 1 - 2 * (q_x ** 2 + q_y ** 2)\n",
    "    \n",
    "    return R\n",
    "\n",
    "def compute_covariance_matrix_batch(quaternions, scales):\n",
    "    \"\"\"\n",
    "    Computes a batch of covariance matrices from quaternions and scales.\n",
    "    quaternions: Tensor of shape (b, G, 4) representing the quaternions (q_w, q_x, q_y, q_z)\n",
    "    scales: Tensor of shape (b, G, 3) representing the scale (variance) along x, y, z axes\n",
    "    \n",
    "    Output: Tensor of shape (b, G, 3, 3) representing the covariance matrices\n",
    "    \"\"\"\n",
    "    # Convert quaternion to a batch of rotation matrices\n",
    "    R = quaternion_to_rotation_matrix_batch(quaternions)\n",
    "    \n",
    "    # Create a diagonal scale matrix for each Gaussian\n",
    "    S = torch.zeros(scales.shape[:-1] + (3, 3), device=scales.device)\n",
    "    S[..., 0, 0] = scales[..., 0]  # Scale for x\n",
    "    S[..., 1, 1] = scales[..., 1]  # Scale for y\n",
    "    S[..., 2, 2] = scales[..., 2]  # Scale for z\n",
    "\n",
    "    # Compute the covariance matrix: R * S * R^T\n",
    "    # Use batch matrix multiplication: bmm for batched matrices\n",
    "    L = R @ S \n",
    "    covariance_matrices = L @ L.transpose(-1, -2) # R S ST RT\n",
    "    return covariance_matrices\n",
    "\n",
    "def generate_random_gaussians(num_gaussians, scaling_modifier=1.0):\n",
    "    # means3D = torch.rand((num_points, 3), dtype=torch.float32, device=\"cuda\") * 100 - 50  # Random points in [-50, 50]\n",
    "    # means2D = screenspace_points\n",
    "    # opacity = torch.rand((num_points,), dtype=torch.float32, device=\"cuda\")  # Random opacity\n",
    "\n",
    "    # # Random scaling and rotation\n",
    "    # scales = torch.rand((num_points,), dtype=torch.float32, device=\"cuda\") * scaling_modifier  # Random scales\n",
    "    # rotations = torch.eye(3, dtype=torch.float32, device=\"cuda\").unsqueeze(0).repeat(num_points, 1, 1)  # Identity rotation\n",
    "\n",
    "    # Generate random 3D means (positions) for the Gaussians\n",
    "    means3D = torch.rand((num_gaussians, 3), dtype=torch.float32, device='cuda') * 100 - 50  # Random positions in a 10x10x10 box\n",
    "    means3D = torch.tensor([[0.0, 0.0, -2.0], [0.0,0.0,0.0]]).to('cuda:0')\n",
    "    # print(means3D)\n",
    "    # Generate random screen-space 2D points (this is just to mock up the input, will be recalculated)\n",
    "    means2D = torch.zeros((num_gaussians, 2), dtype=torch.float32, requires_grad=True)\n",
    "\n",
    "    # Generate random opacities between 0 and 1\n",
    "    opacities = torch.rand((num_gaussians,), dtype=torch.float32, device='cuda')\n",
    "    opacities = torch.ones((num_gaussians,), dtype=torch.float32, device='cuda')\n",
    "\n",
    "    # Generate random scaling (covariance) and rotation for the Gaussians\n",
    "    scales = torch.rand((num_gaussians, 3), dtype=torch.float32, device='cuda') * scaling_modifier  # Random scale for each Gaussian\n",
    "    # scales = torch.ones((num_gaussians,), dtype=torch.float32, device='cuda')\n",
    "    scales = torch.tensor([[1., 0., 0.0], [1., 0., 0.0]]).to('cuda:0')\n",
    "\n",
    "    rotations = torch.rand((num_gaussians, 4), dtype=torch.float32, device='cuda')\n",
    "    rotations = torch.tensor([[1.0, 0.0, 0.0, 0.0], [1.0, 0.0, 0.0, 0.0]]).to('cuda:0')\n",
    "    rotations = torch.nn.functional.normalize(rotations, dim=-1)\n",
    "    covariance = compute_covariance_matrix_batch(rotations, scales)\n",
    "    # print(covariance)\n",
    "    covariance = strip_lowerdiag(covariance)\n",
    "    print(\"covariance:\", covariance)\n",
    "    # Generate random SH (Spherical Harmonics) features or precomputed colors\n",
    "    colors_precomp = torch.ones((num_gaussians, 128), dtype=torch.float32, device='cuda')  # Random RGB colors\n",
    "    \n",
    "    return means3D, means2D, opacities, scales, rotations, colors_precomp, covariance\n",
    "\n",
    "def render_random_gaussians(viewpoint_camera, bg_color: torch.Tensor, num_gaussians=100, scaling_modifier=1.0):\n",
    "    \"\"\"\n",
    "    Render a scene with random Gaussians.\n",
    "    \n",
    "    Background tensor (bg_color) must be on GPU!\n",
    "    \"\"\"\n",
    "    # Set up rasterization configuration\n",
    "    tanfovx = math.tan(viewpoint_camera.FoVx * 0.5)\n",
    "    tanfovy = math.tan(viewpoint_camera.FoVy * 0.5)\n",
    "\n",
    "    raster_settings = GaussianRasterizationSettings(\n",
    "        image_height=int(viewpoint_camera.image_height),\n",
    "        image_width=int(viewpoint_camera.image_width),\n",
    "        tanfovx=tanfovx,\n",
    "        tanfovy=tanfovy,\n",
    "        bg=bg_color,\n",
    "        scale_modifier=scaling_modifier,\n",
    "        viewmatrix=viewpoint_camera.world_view_transform,\n",
    "        projmatrix=viewpoint_camera.full_proj_transform,\n",
    "        sh_degree=0,  # No SHs used for random Gaussians\n",
    "        campos=viewpoint_camera.camera_center,\n",
    "        prefiltered=False,\n",
    "        debug=False\n",
    "    )\n",
    "\n",
    "    rasterizer = GaussianRasterizer()\n",
    "    rasterizer.set_raster_settings(raster_settings)\n",
    "\n",
    "    # Generate random Gaussians' parameters\n",
    "    means3D, means2D, opacities, scales, rotations, colors_precomp, covariance = generate_random_gaussians(num_gaussians, scaling_modifier)\n",
    "    # Rasterize visible Gaussians to image, obtain their radii (on screen). \n",
    "    rendered_image, radii = rasterizer(\n",
    "        means3D=means3D,\n",
    "        means2D=None,\n",
    "        shs=None,  # No SHs used\n",
    "        colors_precomp=colors_precomp,\n",
    "        opacities=opacities,\n",
    "        scales=None,\n",
    "        rotations=None,\n",
    "        cov3D_precomp=covariance)\n",
    "\n",
    "    return {\n",
    "        \"render\": rendered_image,\n",
    "        \"viewspace_points\": means2D,\n",
    "        \"visibility_filter\": radii > 0,\n",
    "        \"radii\": radii,\n",
    "        \"markVisible\": rasterizer.markVisible(means3D)\n",
    "    }\n"
   ]
  },
  {
   "cell_type": "code",
   "execution_count": 3,
   "metadata": {},
   "outputs": [
    {
     "name": "stdout",
     "output_type": "stream",
     "text": [
      "covariance: tensor([[1., 0., 0., 0., 0., 0.],\n",
      "        [1., 0., 0., 0., 0., 0.]], device='cuda:0')\n"
     ]
    }
   ],
   "source": [
    "# Example random bg_color tensor (black background)\n",
    "bg_color = torch.zeros((128), dtype=torch.float32, device=\"cuda\")\n",
    "\n",
    "# Example BEV Camera definition from previous code\n",
    "bev_camera = BEVCamera()\n",
    "\n",
    "# Call the modified render function\n",
    "output = render_random_gaussians(bev_camera, bg_color, num_gaussians=2)"
   ]
  },
  {
   "cell_type": "code",
   "execution_count": 4,
   "metadata": {},
   "outputs": [
    {
     "name": "stdout",
     "output_type": "stream",
     "text": [
      "tensor([True, True], device='cuda:0')\n",
      "tensor([True, True], device='cuda:0')\n"
     ]
    },
    {
     "data": {
      "text/plain": [
       "<matplotlib.image.AxesImage at 0x7fefa02f4ee0>"
      ]
     },
     "execution_count": 4,
     "metadata": {},
     "output_type": "execute_result"
    },
    {
     "data": {
      "image/png": "[encoded data removed]",
      "text/plain": [
       "<Figure size 640x480 with 1 Axes>"
      ]
     },
     "metadata": {},
     "output_type": "display_data"
    }
   ],
   "source": [
    "# print(output['render'][:1])\n",
    "print(output['visibility_filter'])\n",
    "print(output['markVisible'])\n",
    "render = output['render'][:1].detach().permute(1,2,0).cpu().numpy()\n",
    "# render[::4, ::4] = 1\n",
    "plt.imshow(render)"
   ]
  },
  {
   "cell_type": "code",
   "execution_count": 5,
   "metadata": {},
   "outputs": [
    {
     "data": {
      "text/plain": [
       "tensor([0.0000, 0.0000, 0.0000, 0.0000, 0.0000, 0.0000, 0.0000, 0.0000, 0.0304,\n",
       "        0.1093, 0.3112, 0.7023, 1.2561, 1.7805, 2.0000], device='cuda:0')"
      ]
     },
     "execution_count": 5,
     "metadata": {},
     "output_type": "execute_result"
    }
   ],
   "source": [
    "output['render'][0, 86:101, 100]"
   ]
  },
  {
   "cell_type": "code",
   "execution_count": null,
   "metadata": {},
   "outputs": [],
   "source": []
  }
 ],
 "metadata": {
  "kernelspec": {
   "display_name": "cvt_2",
   "language": "python",
   "name": "python3"
  },
  "language_info": {
   "codemirror_mode": {
    "name": "ipython",
    "version": 3
   },
   "file_extension": ".py",
   "mimetype": "text/x-python",
   "name": "python",
   "nbconvert_exporter": "python",
   "pygments_lexer": "ipython3",
   "version": "3.8.18"
  }
 },
 "nbformat": 4,
 "nbformat_minor": 2
}
